{
 "cells": [
  {
   "cell_type": "raw",
   "metadata": {},
   "source": [
    "# PROGRAM_3 Write a program to demonstrate the working of the decision tree based ID3 algorithm. Use an appropriate data set for building the decision tree and  apply this knowledge to classify a new sample."
   ]
  },
  {
   "cell_type": "code",
   "execution_count": 11,
   "metadata": {},
   "outputs": [
    {
     "ename": "AttributeError",
     "evalue": "type object 'DataFrame' has no attribute 'from_csv'",
     "output_type": "error",
     "traceback": [
      "\u001b[1;31m---------------------------------------------------------------------------\u001b[0m",
      "\u001b[1;31mAttributeError\u001b[0m                            Traceback (most recent call last)",
      "\u001b[1;32m~\\AppData\\Local\\Temp\\ipykernel_10140\\3577846010.py\u001b[0m in \u001b[0;36m<module>\u001b[1;34m\u001b[0m\n\u001b[0;32m      1\u001b[0m \u001b[1;32mimport\u001b[0m \u001b[0mpandas\u001b[0m \u001b[1;32mas\u001b[0m \u001b[0mpd\u001b[0m\u001b[1;33m\u001b[0m\u001b[1;33m\u001b[0m\u001b[0m\n\u001b[0;32m      2\u001b[0m \u001b[1;32mfrom\u001b[0m \u001b[0mpandas\u001b[0m \u001b[1;32mimport\u001b[0m \u001b[0mDataFrame\u001b[0m\u001b[1;33m\u001b[0m\u001b[1;33m\u001b[0m\u001b[0m\n\u001b[1;32m----> 3\u001b[1;33m \u001b[0mdf_tennis\u001b[0m \u001b[1;33m=\u001b[0m \u001b[0mDataFrame\u001b[0m\u001b[1;33m.\u001b[0m\u001b[0mfrom_csv\u001b[0m\u001b[1;33m(\u001b[0m\u001b[1;34m'C:\\\\Users\\\\Admin\\\\Desktop\\\\ML_LAB_PROGRAMS_WORD _FILES\\\\PROGRAM_4_id3r\\\\PlayTennis.csv'\u001b[0m\u001b[1;33m)\u001b[0m\u001b[1;33m\u001b[0m\u001b[1;33m\u001b[0m\u001b[0m\n\u001b[0m\u001b[0;32m      4\u001b[0m \u001b[0mprint\u001b[0m\u001b[1;33m(\u001b[0m\u001b[1;34m\"\\n Given Play Tennis Data Set:\\n\\n\"\u001b[0m\u001b[1;33m,\u001b[0m \u001b[0mdf_tennis\u001b[0m\u001b[1;33m)\u001b[0m\u001b[1;33m\u001b[0m\u001b[1;33m\u001b[0m\u001b[0m\n\u001b[0;32m      5\u001b[0m \u001b[0mdf_tennis\u001b[0m\u001b[1;33m.\u001b[0m\u001b[0mkeys\u001b[0m\u001b[1;33m(\u001b[0m\u001b[1;33m)\u001b[0m\u001b[1;33m[\u001b[0m\u001b[1;36m0\u001b[0m\u001b[1;33m]\u001b[0m\u001b[1;33m\u001b[0m\u001b[1;33m\u001b[0m\u001b[0m\n",
      "\u001b[1;31mAttributeError\u001b[0m: type object 'DataFrame' has no attribute 'from_csv'"
     ]
    }
   ],
   "source": [
    "import pandas as pd\n",
    "from pandas import DataFrame \n",
    "df_tennis = DataFrame.from_csv('C:\\\\Users\\\\Admin\\\\Desktop\\\\ML_LAB_PROGRAMS_WORD _FILES\\\\PROGRAM_4_id3r\\\\PlayTennis.csv')\n",
    "print(\"\\n Given Play Tennis Data Set:\\n\\n\", df_tennis)\n",
    "df_tennis.keys()[0]"
   ]
  },
  {
   "cell_type": "markdown",
   "metadata": {},
   "source": [
    "# Entropy of the Training Data Set"
   ]
  },
  {
   "cell_type": "code",
   "execution_count": null,
   "metadata": {},
   "outputs": [],
   "source": [
    "def entropy(probs):  \n",
    "    import math\n",
    "    return sum( [-prob*math.log(prob, 2) for prob in probs] )\n",
    "\n",
    "\n",
    "def entropy_of_list(a_list):  \n",
    "   \n",
    "    from collections import Counter\n",
    "    cnt = Counter(x for x in a_list)  \n",
    "    num_instances = len(a_list)*1.0  \n",
    "    print(\"\\n Number of Instances of the Current Sub Class is {0}:\".format(num_instances ))\n",
    "    probs = [x / num_instances for x in cnt.values()] \n",
    "    print(\"\\n Classes:\",min(cnt),max(cnt))\n",
    "    print(\" \\n Probabilities of Class {0} is {1}:\".format(min(cnt),min(probs)))\n",
    "    print(\" \\n Probabilities of Class {0} is {1}:\".format(max(cnt),max(probs)))\n",
    "    return entropy(probs) # Call Entropy :\n",
    "    \n",
    "\n",
    "print(\"\\n  INPUT DATA SET FOR ENTROPY CALCULATION:\\n\", df_tennis['PlayTennis'])\n",
    "\n",
    "total_entropy = entropy_of_list(df_tennis['PlayTennis'])\n",
    "\n",
    "print(\"\\n Total Entropy of PlayTennis Data Set:\",total_entropy)"
   ]
  },
  {
   "cell_type": "markdown",
   "metadata": {},
   "source": [
    "# Information Gain of Attributes "
   ]
  },
  {
   "cell_type": "code",
   "execution_count": 2,
   "metadata": {},
   "outputs": [
    {
     "ename": "NameError",
     "evalue": "name 'df_tennis' is not defined",
     "output_type": "error",
     "traceback": [
      "\u001b[1;31m---------------------------------------------------------------------------\u001b[0m",
      "\u001b[1;31mNameError\u001b[0m                                 Traceback (most recent call last)",
      "\u001b[1;32m~\\AppData\\Local\\Temp\\ipykernel_10140\\2896570461.py\u001b[0m in \u001b[0;36m<module>\u001b[1;34m\u001b[0m\n\u001b[0;32m      8\u001b[0m     \u001b[0mold_entropy\u001b[0m \u001b[1;33m=\u001b[0m \u001b[0mentropy_of_list\u001b[0m\u001b[1;33m(\u001b[0m\u001b[0mdf\u001b[0m\u001b[1;33m[\u001b[0m\u001b[0mtarget_attribute_name\u001b[0m\u001b[1;33m]\u001b[0m\u001b[1;33m)\u001b[0m\u001b[1;33m\u001b[0m\u001b[1;33m\u001b[0m\u001b[0m\n\u001b[0;32m      9\u001b[0m     \u001b[1;32mreturn\u001b[0m \u001b[0mold_entropy\u001b[0m \u001b[1;33m-\u001b[0m \u001b[0mnew_entropy\u001b[0m\u001b[1;33m\u001b[0m\u001b[1;33m\u001b[0m\u001b[0m\n\u001b[1;32m---> 10\u001b[1;33m \u001b[0mprint\u001b[0m\u001b[1;33m(\u001b[0m\u001b[1;34m'Info-gain for Outlook is :'\u001b[0m\u001b[1;33m+\u001b[0m\u001b[0mstr\u001b[0m\u001b[1;33m(\u001b[0m \u001b[0minformation_gain\u001b[0m\u001b[1;33m(\u001b[0m\u001b[0mdf_tennis\u001b[0m\u001b[1;33m,\u001b[0m \u001b[1;34m'Outlook'\u001b[0m\u001b[1;33m,\u001b[0m \u001b[1;34m'PlayTennis'\u001b[0m\u001b[1;33m)\u001b[0m\u001b[1;33m)\u001b[0m\u001b[1;33m,\u001b[0m\u001b[1;34m\"\\n\"\u001b[0m\u001b[1;33m)\u001b[0m\u001b[1;33m\u001b[0m\u001b[1;33m\u001b[0m\u001b[0m\n\u001b[0m\u001b[0;32m     11\u001b[0m \u001b[0mprint\u001b[0m\u001b[1;33m(\u001b[0m\u001b[1;34m'\\n Info-gain for Humidity is: '\u001b[0m \u001b[1;33m+\u001b[0m \u001b[0mstr\u001b[0m\u001b[1;33m(\u001b[0m \u001b[0minformation_gain\u001b[0m\u001b[1;33m(\u001b[0m\u001b[0mdf_tennis\u001b[0m\u001b[1;33m,\u001b[0m \u001b[1;34m'Humidity'\u001b[0m\u001b[1;33m,\u001b[0m \u001b[1;34m'PlayTennis'\u001b[0m\u001b[1;33m)\u001b[0m\u001b[1;33m)\u001b[0m\u001b[1;33m,\u001b[0m\u001b[1;34m\"\\n\"\u001b[0m\u001b[1;33m)\u001b[0m\u001b[1;33m\u001b[0m\u001b[1;33m\u001b[0m\u001b[0m\n\u001b[0;32m     12\u001b[0m \u001b[0mprint\u001b[0m\u001b[1;33m(\u001b[0m\u001b[1;34m'\\n Info-gain for Wind is:'\u001b[0m \u001b[1;33m+\u001b[0m \u001b[0mstr\u001b[0m\u001b[1;33m(\u001b[0m \u001b[0minformation_gain\u001b[0m\u001b[1;33m(\u001b[0m\u001b[0mdf_tennis\u001b[0m\u001b[1;33m,\u001b[0m \u001b[1;34m'Wind'\u001b[0m\u001b[1;33m,\u001b[0m \u001b[1;34m'PlayTennis'\u001b[0m\u001b[1;33m)\u001b[0m\u001b[1;33m)\u001b[0m\u001b[1;33m,\u001b[0m\u001b[1;34m\"\\n\"\u001b[0m\u001b[1;33m)\u001b[0m\u001b[1;33m\u001b[0m\u001b[1;33m\u001b[0m\u001b[0m\n",
      "\u001b[1;31mNameError\u001b[0m: name 'df_tennis' is not defined"
     ]
    }
   ],
   "source": [
    "def information_gain(df, split_attribute_name, target_attribute_name, trace=0):\n",
    "    print(\"Information Gain Calculation of \",split_attribute_name)\n",
    "    df_split = df.groupby(split_attribute_name)\n",
    "    nobs = len(df.index) * 1.0\n",
    "    df_agg_ent = df_split.agg({target_attribute_name : [entropy_of_list, lambda x: len(x)/nobs] })[target_attribute_name]\n",
    "    df_agg_ent.columns = ['Entropy', 'PropObservations']\n",
    "    new_entropy = sum( df_agg_ent['Entropy'] * df_agg_ent['PropObservations'] )\n",
    "    old_entropy = entropy_of_list(df[target_attribute_name])\n",
    "    return old_entropy - new_entropy\n",
    "print('Info-gain for Outlook is :'+str( information_gain(df_tennis, 'Outlook', 'PlayTennis')),\"\\n\")\n",
    "print('\\n Info-gain for Humidity is: ' + str( information_gain(df_tennis, 'Humidity', 'PlayTennis')),\"\\n\")\n",
    "print('\\n Info-gain for Wind is:' + str( information_gain(df_tennis, 'Wind', 'PlayTennis')),\"\\n\")\n",
    "print('\\n Info-gain for Temperature is:' + str( information_gain(df_tennis, 'Temperature','PlayTennis')),\"\\n\")"
   ]
  },
  {
   "cell_type": "markdown",
   "metadata": {},
   "source": [
    "# ID3 Algorithm"
   ]
  },
  {
   "cell_type": "code",
   "execution_count": null,
   "metadata": {},
   "outputs": [],
   "source": [
    "def id3(df, target_attribute_name, attribute_names, default_class=None):\n",
    "    \n",
    "    \n",
    "    from collections import Counter\n",
    "    cnt = Counter(x for x in df[target_attribute_name])\n",
    "       \n",
    "    if len(cnt) == 1:\n",
    "        return next(iter(cnt))  \n",
    "    \n",
    "    elif df.empty or (not attribute_names):\n",
    "        return default_class  \n",
    "     \n",
    "    else:\n",
    "        \n",
    "        default_class = max(cnt.keys()) \n",
    "        \n",
    "        gainz = [information_gain(df, attr, target_attribute_name) for attr in attribute_names] #\n",
    "        index_of_max = gainz.index(max(gainz)) # Index of Best Attribute\n",
    "        \n",
    "        best_attr = attribute_names[index_of_max]\n",
    "        \n",
    "      \n",
    "        tree = {best_attr:{}}\n",
    "        remaining_attribute_names = [i for i in attribute_names if i != best_attr]\n",
    "               \n",
    "        for attr_val, data_subset in df.groupby(best_attr):\n",
    "            subtree = id3(data_subset,\n",
    "                        target_attribute_name,\n",
    "                        remaining_attribute_names,\n",
    "                        default_class)\n",
    "            tree[best_attr][attr_val] = subtree\n",
    "        return tree"
   ]
  },
  {
   "cell_type": "markdown",
   "metadata": {},
   "source": [
    "# Predicting Attributes"
   ]
  },
  {
   "cell_type": "code",
   "execution_count": null,
   "metadata": {},
   "outputs": [],
   "source": [
    "attribute_names = list(df_tennis.columns)\n",
    "print(\"List of Attributes:\", attribute_names) \n",
    "attribute_names.remove('PlayTennis')\n",
    "print(\"Predicting Attributes:\", attribute_names)"
   ]
  },
  {
   "cell_type": "markdown",
   "metadata": {},
   "source": [
    "# Tree Construction"
   ]
  },
  {
   "cell_type": "code",
   "execution_count": null,
   "metadata": {},
   "outputs": [],
   "source": [
    "from pprint import pprint\n",
    "tree = id3(df_tennis,'PlayTennis',attribute_names)\n",
    "print(\"\\n\\nThe Resultant Decision Tree is :\\n\")\n",
    "pprint(tree)\n",
    "attribute = next(iter(tree))\n",
    "print(\"Best Attribute :\\n\",attribute)\n",
    "print(\"Tree Keys:\\n\",tree[attribute].keys())"
   ]
  },
  {
   "cell_type": "markdown",
   "metadata": {},
   "source": [
    "# Classification Accuracy"
   ]
  },
  {
   "cell_type": "code",
   "execution_count": null,
   "metadata": {},
   "outputs": [],
   "source": [
    "def classify(instance, tree, default=None): # Instance of Play Tennis with Predicted \n",
    "    \n",
    "    \n",
    "    attribute = next(iter(tree))        \n",
    "    print(\"Key:\",tree.keys())  \n",
    "    print(\"Attribute:\",attribute)\n",
    "   \n",
    "   \n",
    "    if instance[attribute] in tree[attribute].keys():\n",
    "        result = tree[attribute][instance[attribute]]\n",
    "        print(\"Instance Attribute:\",instance[attribute],\"TreeKeys :\",tree[attribute].keys())\n",
    "        if isinstance(result, dict): \n",
    "            return classify(instance, result)\n",
    "        else:\n",
    "            return result \n",
    "    else:\n",
    "        return default"
   ]
  },
  {
   "cell_type": "code",
   "execution_count": null,
   "metadata": {},
   "outputs": [],
   "source": [
    "df_tennis['predicted'] = df_tennis.apply(classify, axis=1, args=(tree,'No') ) \n",
    "    # classify func allows for a default arg: when tree doesn't have answer for a particular\n",
    "    # combitation of attribute-values, we can use 'no' as the default guess \n",
    "\n",
    "print(df_tennis['predicted'])\n",
    "\n",
    "print('\\n Accuracy is:\\n' + str( sum(df_tennis['PlayTennis']==df_tennis['predicted'] ) / (1.0*len(df_tennis.index)) ))\n",
    "\n",
    "\n",
    "df_tennis[['PlayTennis', 'predicted']]\n"
   ]
  },
  {
   "cell_type": "markdown",
   "metadata": {},
   "source": [
    "# Classification Accuracy: Training/Testing Set"
   ]
  },
  {
   "cell_type": "code",
   "execution_count": null,
   "metadata": {
    "slideshow": {
     "slide_type": "-"
    }
   },
   "outputs": [],
   "source": [
    "training_data = df_tennis.iloc[1:-4] # all but last four instances\n",
    "test_data  = df_tennis.iloc[-4:] # just the last four\n",
    "train_tree = id3(training_data, 'PlayTennis', attribute_names)\n",
    "\n",
    "test_data['predicted2'] = test_data.apply(                                \n",
    "                                          classify, \n",
    "                                          axis=1, \n",
    "                                          args=(train_tree,'Yes') ) \n",
    "\n",
    "\n",
    "print ('\\n\\n Accuracy is : ' + str( sum(test_data['PlayTennis']==test_data['predicted2'] ) / (1.0*len(test_data.index)) ))"
   ]
  },
  {
   "cell_type": "code",
   "execution_count": null,
   "metadata": {},
   "outputs": [],
   "source": []
  },
  {
   "cell_type": "code",
   "execution_count": null,
   "metadata": {},
   "outputs": [],
   "source": []
  },
  {
   "cell_type": "code",
   "execution_count": null,
   "metadata": {},
   "outputs": [],
   "source": []
  }
 ],
 "metadata": {
  "kernelspec": {
   "display_name": "Python 3 (ipykernel)",
   "language": "python",
   "name": "python3"
  },
  "language_info": {
   "codemirror_mode": {
    "name": "ipython",
    "version": 3
   },
   "file_extension": ".py",
   "mimetype": "text/x-python",
   "name": "python",
   "nbconvert_exporter": "python",
   "pygments_lexer": "ipython3",
   "version": "3.9.13"
  }
 },
 "nbformat": 4,
 "nbformat_minor": 2
}
